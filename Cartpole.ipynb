{
  "nbformat": 4,
  "nbformat_minor": 0,
  "metadata": {
    "colab": {
      "name": "Cartpole",
      "provenance": [],
      "authorship_tag": "ABX9TyP1xiY8FWLgaAlGDYMo7sOA",
      "include_colab_link": true
    },
    "kernelspec": {
      "name": "python3",
      "display_name": "Python 3"
    }
  },
  "cells": [
    {
      "cell_type": "markdown",
      "metadata": {
        "id": "view-in-github",
        "colab_type": "text"
      },
      "source": [
        "<a href=\"https://colab.research.google.com/github/TomStarshak/Cartpole-Swingup/blob/master/Cartpole.ipynb\" target=\"_parent\"><img src=\"https://colab.research.google.com/assets/colab-badge.svg\" alt=\"Open In Colab\"/></a>"
      ]
    },
    {
      "cell_type": "code",
      "metadata": {
        "id": "oba7XbeUKbAP"
      },
      "source": [
        "from jax.experimental.ode import odeint\r\n",
        "from math import sin, cos, pi, fmod\r\n",
        "import jax.numpy as np"
      ],
      "execution_count": 1,
      "outputs": []
    },
    {
      "cell_type": "code",
      "metadata": {
        "id": "lfTM3co8KvLA"
      },
      "source": [
        "# physical params\r\n",
        "m = 1 # pole mass kg\r\n",
        "M = 2 # cart mass kg\r\n",
        "L = 1 # pole length m\r\n",
        "g = 9.81 # acceleration constant m/s^2"
      ],
      "execution_count": null,
      "outputs": []
    },
    {
      "cell_type": "code",
      "metadata": {
        "id": "sYUtC-TWKzzA"
      },
      "source": [
        "# map angle to [-pi, pi)\r\n",
        "def modpi(theta):\r\n",
        "    # get angle to [0, 2*pi)\r\n",
        "    theta = (theta + pi) % (2 * pi)\r\n",
        "    return theta - pi"
      ],
      "execution_count": null,
      "outputs": []
    },
    {
      "cell_type": "code",
      "metadata": {
        "id": "hG3PQXEzKz9A"
      },
      "source": [
        "def cartpole(du, u, p, t):\r\n",
        "  # position (cart), velocity, pole angle, angular velocity\r\n",
        "  x, dx, theta, dtheta = u\r\n",
        "  force = p(t)\r\n",
        "  du[1] = dx\r\n",
        "  du[2] = (force + m * sin(theta) * (L * dtheta^2 - g * cos(theta))) / (M + m * sin(theta)^2)\r\n",
        "  du[3] = dtheta\r\n",
        "  du[4] = (-force * cos(theta) - m * L * dtheta^2 * sin(theta) * cos(theta) + (M + m) * g * sin(theta)) / (L * (M + m * sin(theta)^2))"
      ],
      "execution_count": null,
      "outputs": []
    }
  ]
}