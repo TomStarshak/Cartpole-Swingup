{
  "nbformat": 4,
  "nbformat_minor": 0,
  "metadata": {
    "colab": {
      "name": "Copy of Untitled0.ipynb",
      "provenance": [],
      "authorship_tag": "ABX9TyNHhg0CcsStGg4qwq3iwz5r",
      "include_colab_link": true
    },
    "kernelspec": {
      "name": "python3",
      "display_name": "Python 3"
    }
  },
  "cells": [
    {
      "cell_type": "markdown",
      "metadata": {
        "id": "view-in-github",
        "colab_type": "text"
      },
      "source": [
        "<a href=\"https://colab.research.google.com/github/TomStarshak/Cartpole-Swingup/blob/master/Cartpole.ipynb\" target=\"_parent\"><img src=\"https://colab.research.google.com/assets/colab-badge.svg\" alt=\"Open In Colab\"/></a>"
      ]
    },
    {
      "cell_type": "code",
      "metadata": {
        "id": "6aPpPuwaPk6Q",
        "outputId": "b37b143c-7945-4a41-e906-ac531c0d71df",
        "colab": {
          "base_uri": "https://localhost:8080/"
        }
      },
      "source": [
        "pip install diffeqpy"
      ],
      "execution_count": 2,
      "outputs": [
        {
          "output_type": "stream",
          "text": [
            "Collecting diffeqpy\n",
            "  Downloading https://files.pythonhosted.org/packages/eb/3e/23e863a4841d09b6d697cfe54b93c5f67be0f7c0e5568f30180cf9f7dfa2/diffeqpy-1.1.0-py3-none-any.whl\n",
            "Collecting julia>=0.2\n",
            "\u001b[?25l  Downloading https://files.pythonhosted.org/packages/79/15/b7ffd6aab0902a8430db614f964c2516db52f847a3c42d99904de72c1faa/julia-0.5.6-py2.py3-none-any.whl (67kB)\n",
            "\u001b[K     |████████████████████████████████| 71kB 3.2MB/s \n",
            "\u001b[?25hInstalling collected packages: julia, diffeqpy\n",
            "Successfully installed diffeqpy-1.1.0 julia-0.5.6\n"
          ],
          "name": "stdout"
        }
      ]
    },
    {
      "cell_type": "code",
      "metadata": {
        "id": "oba7XbeUKbAP"
      },
      "source": [
        "from jax.experimental.ode import odeint\r\n",
        "from math import sin, cos, pi, fmod\r\n",
        "import jax.numpy as np"
      ],
      "execution_count": 10,
      "outputs": []
    },
    {
      "cell_type": "code",
      "metadata": {
        "id": "lfTM3co8KvLA"
      },
      "source": [
        "# physical params\r\n",
        "m = 1 # pole mass kg\r\n",
        "M = 2 # cart mass kg\r\n",
        "L = 1 # pole length m\r\n",
        "g = 9.81 # acceleration constant m/s^2"
      ],
      "execution_count": null,
      "outputs": []
    },
    {
      "cell_type": "code",
      "metadata": {
        "id": "sYUtC-TWKzzA"
      },
      "source": [
        "# map angle to [-pi, pi)\r\n",
        "def modpi(theta):\r\n",
        "    # get angle to [0, 2*pi)\r\n",
        "    theta = (theta + pi) % (2 * pi)\r\n",
        "    return theta - pi"
      ],
      "execution_count": null,
      "outputs": []
    },
    {
      "cell_type": "code",
      "metadata": {
        "id": "hG3PQXEzKz9A"
      },
      "source": [
        "def cartpole(du, u, p, t):\r\n",
        "  # position (cart), velocity, pole angle, angular velocity\r\n",
        "  x, dx, theta, dtheta = u\r\n",
        "  force = p(t)\r\n",
        "  du[1] = dx\r\n",
        "  du[2] = (force + m * sin(theta) * (L * dtheta^2 - g * cos(theta))) / (M + m * sin(theta)^2)\r\n",
        "  du[3] = dtheta\r\n",
        "  du[4] = (-force * cos(theta) - m * L * dtheta^2 * sin(theta) * cos(theta) + (M + m) * g * sin(theta)) / (L * (M + m * sin(theta)^2))"
      ],
      "execution_count": null,
      "outputs": []
    }
  ]
}